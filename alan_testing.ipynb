{
 "cells": [
  {
   "cell_type": "code",
   "execution_count": 83,
   "metadata": {},
   "outputs": [
    {
     "name": "stdout",
     "output_type": "stream",
     "text": [
      "[3327, 6880, 6495, 5768] [7.134956417192666, 19.998546511627907, 5.735950731331794, 11.354542302357837]\n"
     ]
    }
   ],
   "source": [
    "import pandas as pd\n",
    "import matplotlib.pyplot as plt\n",
    "\n",
    "df_graph = pd.read_csv(\"bill_challenge_datasets/Training/training_graph.csv\")\n",
    "df_type = pd.read_csv(\"bill_challenge_datasets/Training/node_classification.csv\")\n",
    "\n",
    "node1 = df_graph[\"node1\"]\n",
    "node2 = df_graph[\"node2\"]\n",
    "\n",
    "#format: id, degree, type\n",
    "arr = [[i, 0, 0] for i in range(22470)]\n",
    "\n",
    "#inputs degree\n",
    "for node in node1:\n",
    "    arr[node][1] += 1\n",
    "for node in node2:\n",
    "    arr[node][1] += 1\n",
    "\n",
    "#inputs type\n",
    "for i in range(22470):\n",
    "    arr[i][2] = df_type.page_type[i]\n",
    "    \n",
    "\n",
    "#returns average degree of the 4 types of nodes\n",
    "sum_deg = [0, 0, 0, 0]\n",
    "num_deg = [0, 0, 0, 0]\n",
    "avg_deg = [0, 0, 0, 0]\n",
    "for node in arr:\n",
    "    sum_deg[node[2] - 1] += node[1]\n",
    "    num_deg[node[2] - 1] += 1\n",
    "    \n",
    "for i in range(4):\n",
    "    avg_deg[i] = sum_deg[i] / num_deg[i]\n",
    "\n",
    "print(num_deg, avg_deg)"
   ]
  },
  {
   "cell_type": "code",
   "execution_count": null,
   "metadata": {},
   "outputs": [],
   "source": []
  }
 ],
 "metadata": {
  "kernelspec": {
   "display_name": "Python 3",
   "language": "python",
   "name": "python3"
  },
  "language_info": {
   "codemirror_mode": {
    "name": "ipython",
    "version": 3
   },
   "file_extension": ".py",
   "mimetype": "text/x-python",
   "name": "python",
   "nbconvert_exporter": "python",
   "pygments_lexer": "ipython3",
   "version": "3.8.5"
  }
 },
 "nbformat": 4,
 "nbformat_minor": 4
}
