{
 "cells": [
  {
   "cell_type": "code",
   "execution_count": 1,
   "id": "5a5202ee",
   "metadata": {},
   "outputs": [],
   "source": [
    "import random\n",
    "import pandas as pd\n",
    "import networkx as nx"
   ]
  },
  {
   "cell_type": "code",
   "execution_count": 5,
   "id": "cd14b10d",
   "metadata": {},
   "outputs": [],
   "source": [
    "df_edges = pd.read_csv(\"./bill_challenge_datasets/Training/training_graph.csv\")\n",
    "G = nx.from_pandas_edgelist(df_edges, source=\"node1\", target=\"node2\")\n",
    "G_prime = G.subgraph(random.sample(nx.nodes(G), k=50))\n",
    "df = nx.to_pandas_edgelist(G_prime).to_csv(\"./visuals/random_subgraph.csv\")"
   ]
  }
 ],
 "metadata": {
  "kernelspec": {
   "display_name": "Python 3",
   "language": "python",
   "name": "python3"
  },
  "language_info": {
   "codemirror_mode": {
    "name": "ipython",
    "version": 3
   },
   "file_extension": ".py",
   "mimetype": "text/x-python",
   "name": "python",
   "nbconvert_exporter": "python",
   "pygments_lexer": "ipython3",
   "version": "3.8.8"
  }
 },
 "nbformat": 4,
 "nbformat_minor": 5
}
